{
  "nbformat": 4,
  "nbformat_minor": 0,
  "metadata": {
    "kernelspec": {
      "display_name": "Python 3",
      "language": "python",
      "name": "python3"
    },
    "language_info": {
      "codemirror_mode": {
        "name": "ipython",
        "version": 3
      },
      "file_extension": ".py",
      "mimetype": "text/x-python",
      "name": "python",
      "nbconvert_exporter": "python",
      "pygments_lexer": "ipython3",
      "version": "3.7.6"
    },
    "colab": {
      "name": "Sentiment_Analysis.ipynb",
      "provenance": []
    }
  },
  "cells": [
    {
      "cell_type": "code",
      "metadata": {
        "colab": {
          "base_uri": "https://localhost:8080/"
        },
        "id": "TDJKsYmJb5iD",
        "outputId": "6826471d-3633-481d-ae59-c967b4134aa0"
      },
      "source": [
        "pip install mpld3"
      ],
      "execution_count": 2,
      "outputs": [
        {
          "output_type": "stream",
          "name": "stdout",
          "text": [
            "Collecting mpld3\n",
            "  Downloading mpld3-0.5.5.tar.gz (1.0 MB)\n",
            "\u001b[?25l\r\u001b[K     |▎                               | 10 kB 24.5 MB/s eta 0:00:01\r\u001b[K     |▋                               | 20 kB 28.1 MB/s eta 0:00:01\r\u001b[K     |█                               | 30 kB 12.7 MB/s eta 0:00:01\r\u001b[K     |█▎                              | 40 kB 9.6 MB/s eta 0:00:01\r\u001b[K     |█▋                              | 51 kB 5.2 MB/s eta 0:00:01\r\u001b[K     |██                              | 61 kB 5.7 MB/s eta 0:00:01\r\u001b[K     |██▎                             | 71 kB 5.5 MB/s eta 0:00:01\r\u001b[K     |██▋                             | 81 kB 6.2 MB/s eta 0:00:01\r\u001b[K     |██▉                             | 92 kB 4.7 MB/s eta 0:00:01\r\u001b[K     |███▏                            | 102 kB 5.1 MB/s eta 0:00:01\r\u001b[K     |███▌                            | 112 kB 5.1 MB/s eta 0:00:01\r\u001b[K     |███▉                            | 122 kB 5.1 MB/s eta 0:00:01\r\u001b[K     |████▏                           | 133 kB 5.1 MB/s eta 0:00:01\r\u001b[K     |████▌                           | 143 kB 5.1 MB/s eta 0:00:01\r\u001b[K     |████▉                           | 153 kB 5.1 MB/s eta 0:00:01\r\u001b[K     |█████▏                          | 163 kB 5.1 MB/s eta 0:00:01\r\u001b[K     |█████▍                          | 174 kB 5.1 MB/s eta 0:00:01\r\u001b[K     |█████▊                          | 184 kB 5.1 MB/s eta 0:00:01\r\u001b[K     |██████                          | 194 kB 5.1 MB/s eta 0:00:01\r\u001b[K     |██████▍                         | 204 kB 5.1 MB/s eta 0:00:01\r\u001b[K     |██████▊                         | 215 kB 5.1 MB/s eta 0:00:01\r\u001b[K     |███████                         | 225 kB 5.1 MB/s eta 0:00:01\r\u001b[K     |███████▍                        | 235 kB 5.1 MB/s eta 0:00:01\r\u001b[K     |███████▊                        | 245 kB 5.1 MB/s eta 0:00:01\r\u001b[K     |████████                        | 256 kB 5.1 MB/s eta 0:00:01\r\u001b[K     |████████▎                       | 266 kB 5.1 MB/s eta 0:00:01\r\u001b[K     |████████▋                       | 276 kB 5.1 MB/s eta 0:00:01\r\u001b[K     |█████████                       | 286 kB 5.1 MB/s eta 0:00:01\r\u001b[K     |█████████▎                      | 296 kB 5.1 MB/s eta 0:00:01\r\u001b[K     |█████████▋                      | 307 kB 5.1 MB/s eta 0:00:01\r\u001b[K     |██████████                      | 317 kB 5.1 MB/s eta 0:00:01\r\u001b[K     |██████████▎                     | 327 kB 5.1 MB/s eta 0:00:01\r\u001b[K     |██████████▌                     | 337 kB 5.1 MB/s eta 0:00:01\r\u001b[K     |██████████▉                     | 348 kB 5.1 MB/s eta 0:00:01\r\u001b[K     |███████████▏                    | 358 kB 5.1 MB/s eta 0:00:01\r\u001b[K     |███████████▌                    | 368 kB 5.1 MB/s eta 0:00:01\r\u001b[K     |███████████▉                    | 378 kB 5.1 MB/s eta 0:00:01\r\u001b[K     |████████████▏                   | 389 kB 5.1 MB/s eta 0:00:01\r\u001b[K     |████████████▌                   | 399 kB 5.1 MB/s eta 0:00:01\r\u001b[K     |████████████▉                   | 409 kB 5.1 MB/s eta 0:00:01\r\u001b[K     |█████████████                   | 419 kB 5.1 MB/s eta 0:00:01\r\u001b[K     |█████████████▍                  | 430 kB 5.1 MB/s eta 0:00:01\r\u001b[K     |█████████████▊                  | 440 kB 5.1 MB/s eta 0:00:01\r\u001b[K     |██████████████                  | 450 kB 5.1 MB/s eta 0:00:01\r\u001b[K     |██████████████▍                 | 460 kB 5.1 MB/s eta 0:00:01\r\u001b[K     |██████████████▊                 | 471 kB 5.1 MB/s eta 0:00:01\r\u001b[K     |███████████████                 | 481 kB 5.1 MB/s eta 0:00:01\r\u001b[K     |███████████████▍                | 491 kB 5.1 MB/s eta 0:00:01\r\u001b[K     |███████████████▋                | 501 kB 5.1 MB/s eta 0:00:01\r\u001b[K     |████████████████                | 512 kB 5.1 MB/s eta 0:00:01\r\u001b[K     |████████████████▎               | 522 kB 5.1 MB/s eta 0:00:01\r\u001b[K     |████████████████▋               | 532 kB 5.1 MB/s eta 0:00:01\r\u001b[K     |█████████████████               | 542 kB 5.1 MB/s eta 0:00:01\r\u001b[K     |█████████████████▎              | 552 kB 5.1 MB/s eta 0:00:01\r\u001b[K     |█████████████████▋              | 563 kB 5.1 MB/s eta 0:00:01\r\u001b[K     |██████████████████              | 573 kB 5.1 MB/s eta 0:00:01\r\u001b[K     |██████████████████▏             | 583 kB 5.1 MB/s eta 0:00:01\r\u001b[K     |██████████████████▌             | 593 kB 5.1 MB/s eta 0:00:01\r\u001b[K     |██████████████████▉             | 604 kB 5.1 MB/s eta 0:00:01\r\u001b[K     |███████████████████▏            | 614 kB 5.1 MB/s eta 0:00:01\r\u001b[K     |███████████████████▌            | 624 kB 5.1 MB/s eta 0:00:01\r\u001b[K     |███████████████████▉            | 634 kB 5.1 MB/s eta 0:00:01\r\u001b[K     |████████████████████▏           | 645 kB 5.1 MB/s eta 0:00:01\r\u001b[K     |████████████████████▌           | 655 kB 5.1 MB/s eta 0:00:01\r\u001b[K     |████████████████████▊           | 665 kB 5.1 MB/s eta 0:00:01\r\u001b[K     |█████████████████████           | 675 kB 5.1 MB/s eta 0:00:01\r\u001b[K     |█████████████████████▍          | 686 kB 5.1 MB/s eta 0:00:01\r\u001b[K     |█████████████████████▊          | 696 kB 5.1 MB/s eta 0:00:01\r\u001b[K     |██████████████████████          | 706 kB 5.1 MB/s eta 0:00:01\r\u001b[K     |██████████████████████▍         | 716 kB 5.1 MB/s eta 0:00:01\r\u001b[K     |██████████████████████▊         | 727 kB 5.1 MB/s eta 0:00:01\r\u001b[K     |███████████████████████         | 737 kB 5.1 MB/s eta 0:00:01\r\u001b[K     |███████████████████████▎        | 747 kB 5.1 MB/s eta 0:00:01\r\u001b[K     |███████████████████████▋        | 757 kB 5.1 MB/s eta 0:00:01\r\u001b[K     |████████████████████████        | 768 kB 5.1 MB/s eta 0:00:01\r\u001b[K     |████████████████████████▎       | 778 kB 5.1 MB/s eta 0:00:01\r\u001b[K     |████████████████████████▋       | 788 kB 5.1 MB/s eta 0:00:01\r\u001b[K     |█████████████████████████       | 798 kB 5.1 MB/s eta 0:00:01\r\u001b[K     |█████████████████████████▎      | 808 kB 5.1 MB/s eta 0:00:01\r\u001b[K     |█████████████████████████▋      | 819 kB 5.1 MB/s eta 0:00:01\r\u001b[K     |█████████████████████████▉      | 829 kB 5.1 MB/s eta 0:00:01\r\u001b[K     |██████████████████████████▏     | 839 kB 5.1 MB/s eta 0:00:01\r\u001b[K     |██████████████████████████▌     | 849 kB 5.1 MB/s eta 0:00:01\r\u001b[K     |██████████████████████████▉     | 860 kB 5.1 MB/s eta 0:00:01\r\u001b[K     |███████████████████████████▏    | 870 kB 5.1 MB/s eta 0:00:01\r\u001b[K     |███████████████████████████▌    | 880 kB 5.1 MB/s eta 0:00:01\r\u001b[K     |███████████████████████████▉    | 890 kB 5.1 MB/s eta 0:00:01\r\u001b[K     |████████████████████████████▏   | 901 kB 5.1 MB/s eta 0:00:01\r\u001b[K     |████████████████████████████▍   | 911 kB 5.1 MB/s eta 0:00:01\r\u001b[K     |████████████████████████████▊   | 921 kB 5.1 MB/s eta 0:00:01\r\u001b[K     |█████████████████████████████   | 931 kB 5.1 MB/s eta 0:00:01\r\u001b[K     |█████████████████████████████▍  | 942 kB 5.1 MB/s eta 0:00:01\r\u001b[K     |█████████████████████████████▊  | 952 kB 5.1 MB/s eta 0:00:01\r\u001b[K     |██████████████████████████████  | 962 kB 5.1 MB/s eta 0:00:01\r\u001b[K     |██████████████████████████████▍ | 972 kB 5.1 MB/s eta 0:00:01\r\u001b[K     |██████████████████████████████▊ | 983 kB 5.1 MB/s eta 0:00:01\r\u001b[K     |███████████████████████████████ | 993 kB 5.1 MB/s eta 0:00:01\r\u001b[K     |███████████████████████████████▎| 1.0 MB 5.1 MB/s eta 0:00:01\r\u001b[K     |███████████████████████████████▋| 1.0 MB 5.1 MB/s eta 0:00:01\r\u001b[K     |████████████████████████████████| 1.0 MB 5.1 MB/s eta 0:00:01\r\u001b[K     |████████████████████████████████| 1.0 MB 5.1 MB/s \n",
            "\u001b[?25hRequirement already satisfied: jinja2 in /usr/local/lib/python3.7/dist-packages (from mpld3) (2.11.3)\n",
            "Requirement already satisfied: matplotlib in /usr/local/lib/python3.7/dist-packages (from mpld3) (3.2.2)\n",
            "Requirement already satisfied: MarkupSafe>=0.23 in /usr/local/lib/python3.7/dist-packages (from jinja2->mpld3) (2.0.1)\n",
            "Requirement already satisfied: cycler>=0.10 in /usr/local/lib/python3.7/dist-packages (from matplotlib->mpld3) (0.10.0)\n",
            "Requirement already satisfied: python-dateutil>=2.1 in /usr/local/lib/python3.7/dist-packages (from matplotlib->mpld3) (2.8.2)\n",
            "Requirement already satisfied: numpy>=1.11 in /usr/local/lib/python3.7/dist-packages (from matplotlib->mpld3) (1.19.5)\n",
            "Requirement already satisfied: kiwisolver>=1.0.1 in /usr/local/lib/python3.7/dist-packages (from matplotlib->mpld3) (1.3.1)\n",
            "Requirement already satisfied: pyparsing!=2.0.4,!=2.1.2,!=2.1.6,>=2.0.1 in /usr/local/lib/python3.7/dist-packages (from matplotlib->mpld3) (2.4.7)\n",
            "Requirement already satisfied: six in /usr/local/lib/python3.7/dist-packages (from cycler>=0.10->matplotlib->mpld3) (1.15.0)\n",
            "Building wheels for collected packages: mpld3\n",
            "  Building wheel for mpld3 (setup.py) ... \u001b[?25l\u001b[?25hdone\n",
            "  Created wheel for mpld3: filename=mpld3-0.5.5-py3-none-any.whl size=200907 sha256=6aaf8da72b0e437305e2b32b036836d72adcad905dfbe31a5ef683c82d00094c\n",
            "  Stored in directory: /root/.cache/pip/wheels/3b/f3/08/a11447ac4ea31d7603142e76b4cba9e48b2fa7d82b76b69731\n",
            "Successfully built mpld3\n",
            "Installing collected packages: mpld3\n",
            "Successfully installed mpld3-0.5.5\n"
          ]
        }
      ]
    },
    {
      "cell_type": "code",
      "metadata": {
        "id": "nckZPE_lb590"
      },
      "source": [
        "#Libraries\n",
        "import tweepy\n",
        "import mpld3\n",
        "from textblob import TextBlob\n",
        "from wordcloud import WordCloud\n",
        "import pandas as pd\n",
        "import numpy as np\n",
        "import re\n",
        "import matplotlib.pyplot as plt\n",
        "plt.style.use('fivethirtyeight')"
      ],
      "execution_count": 26,
      "outputs": []
    },
    {
      "cell_type": "code",
      "metadata": {
        "id": "a_Kvz_4Eb592"
      },
      "source": [
        "# Twitter API Credentials\n",
        "consumerKey = \"zf4BZhG95UuNQ8UoILvsI3qAw\"\n",
        "consumerSecret = \"uQahBfCxzvyrYMCll5tsCPUxECozDIejJVaFGb0kIZb8MCcgvb\"\n",
        "accessToken = \"3303035127-lNip495SGwrTfG3qS0bdDvZMsvmCSAW8Qp9j5Cy\"\n",
        "accessTokenSecret = \"HkO6t3r9WwbLzTlu16ydYBfGPsIgBbFcZs2YqDZFtmF5B\""
      ],
      "execution_count": 27,
      "outputs": []
    },
    {
      "cell_type": "code",
      "metadata": {
        "id": "sE8g3OLSb592"
      },
      "source": [
        "authenticate = tweepy.OAuthHandler(consumerKey, consumerSecret)\n",
        "\n",
        "authenticate.set_access_token(accessToken, accessTokenSecret)\n",
        "\n",
        "api = tweepy.API(authenticate, wait_on_rate_limit = True)"
      ],
      "execution_count": 28,
      "outputs": []
    },
    {
      "cell_type": "code",
      "metadata": {
        "colab": {
          "base_uri": "https://localhost:8080/"
        },
        "id": "aChEvSrVb592",
        "outputId": "3d45b24a-9dd5-4eda-adad-5bab152989c6"
      },
      "source": [
        "userID = input(\"Enter Twitter User name: \")"
      ],
      "execution_count": 29,
      "outputs": [
        {
          "name": "stdout",
          "output_type": "stream",
          "text": [
            "Enter Twitter User name: HDROX007\n"
          ]
        }
      ]
    },
    {
      "cell_type": "code",
      "metadata": {
        "colab": {
          "base_uri": "https://localhost:8080/"
        },
        "id": "uD3-2i_Tb593",
        "outputId": "6f411417-9cd4-4367-ecd9-5722ac6a7586"
      },
      "source": [
        "posts = api.user_timeline(screen_name = userID, count = 100, lang = \"en\", tweet_mode = \"extended\")\n",
        "\n",
        "i=1\n",
        "for tweet in posts[0:5]:\n",
        "    print(str(i) + ') ' + tweet.full_text + '\\n')\n",
        "    i = i+1"
      ],
      "execution_count": 30,
      "outputs": [
        {
          "output_type": "stream",
          "name": "stdout",
          "text": [
            "1) RT @niharika5461: @HemantSorenJMM @MVRaoIPS Dear Sir, My father - Arvind Kr. Singh was brutally murdered by Dhananjay Singh from Dhanbad. T…\n",
            "\n",
            "2) RT @LPLive: Three years ago today, we lost an incredible talent.\n",
            "\n",
            "A father, a husband, a bandmate, a very talented musician, and an importa…\n",
            "\n",
            "3) @CarryMinati Naah😁\n",
            "#HarryPotterMarathon https://t.co/gaaa2uV8M8\n",
            "\n",
            "4) RT @ChrisEvans: This one is special. You guys have no idea... https://t.co/ELvt6w4blm\n",
            "\n",
            "5) @BQQuinn @Xbox @jamessmurray Are you jealous of him ?😂😂😂\n",
            "\n"
          ]
        }
      ]
    },
    {
      "cell_type": "code",
      "metadata": {
        "colab": {
          "base_uri": "https://localhost:8080/",
          "height": 204
        },
        "id": "2QQEwVBgb593",
        "outputId": "affbe93f-e409-43fa-8a74-d756a697ba35"
      },
      "source": [
        "df = pd.DataFrame( [tweet.full_text for tweet in posts], columns=['Tweets'])\n",
        "\n",
        "df.head()"
      ],
      "execution_count": 31,
      "outputs": [
        {
          "output_type": "execute_result",
          "data": {
            "text/html": [
              "<div>\n",
              "<style scoped>\n",
              "    .dataframe tbody tr th:only-of-type {\n",
              "        vertical-align: middle;\n",
              "    }\n",
              "\n",
              "    .dataframe tbody tr th {\n",
              "        vertical-align: top;\n",
              "    }\n",
              "\n",
              "    .dataframe thead th {\n",
              "        text-align: right;\n",
              "    }\n",
              "</style>\n",
              "<table border=\"1\" class=\"dataframe\">\n",
              "  <thead>\n",
              "    <tr style=\"text-align: right;\">\n",
              "      <th></th>\n",
              "      <th>Tweets</th>\n",
              "    </tr>\n",
              "  </thead>\n",
              "  <tbody>\n",
              "    <tr>\n",
              "      <th>0</th>\n",
              "      <td>RT @niharika5461: @HemantSorenJMM @MVRaoIPS De...</td>\n",
              "    </tr>\n",
              "    <tr>\n",
              "      <th>1</th>\n",
              "      <td>RT @LPLive: Three years ago today, we lost an ...</td>\n",
              "    </tr>\n",
              "    <tr>\n",
              "      <th>2</th>\n",
              "      <td>@CarryMinati Naah😁\\n#HarryPotterMarathon https...</td>\n",
              "    </tr>\n",
              "    <tr>\n",
              "      <th>3</th>\n",
              "      <td>RT @ChrisEvans: This one is special. You guys ...</td>\n",
              "    </tr>\n",
              "    <tr>\n",
              "      <th>4</th>\n",
              "      <td>@BQQuinn @Xbox @jamessmurray Are you jealous o...</td>\n",
              "    </tr>\n",
              "  </tbody>\n",
              "</table>\n",
              "</div>"
            ],
            "text/plain": [
              "                                              Tweets\n",
              "0  RT @niharika5461: @HemantSorenJMM @MVRaoIPS De...\n",
              "1  RT @LPLive: Three years ago today, we lost an ...\n",
              "2  @CarryMinati Naah😁\\n#HarryPotterMarathon https...\n",
              "3  RT @ChrisEvans: This one is special. You guys ...\n",
              "4  @BQQuinn @Xbox @jamessmurray Are you jealous o..."
            ]
          },
          "metadata": {},
          "execution_count": 31
        }
      ]
    },
    {
      "cell_type": "code",
      "metadata": {
        "colab": {
          "base_uri": "https://localhost:8080/",
          "height": 731
        },
        "id": "HqQeeFL-b593",
        "outputId": "94192d7b-6082-40e3-9af0-d9d951fb0ba8"
      },
      "source": [
        "def cleanTxt(text):\n",
        "    text = re.sub(r'@[A-Za-z0-9]+', '', text)\n",
        "    text = re.sub(r'#', '', text)\n",
        "    text = re.sub(r'RT[\\s]+:', '', text)\n",
        "    text = re.sub(r'https?:\\/\\/\\S+', '', text)\n",
        "    \n",
        "    return text\n",
        "\n",
        "df['Tweets'] = df['Tweets'].apply(cleanTxt)\n",
        "df"
      ],
      "execution_count": 32,
      "outputs": [
        {
          "output_type": "execute_result",
          "data": {
            "text/html": [
              "<div>\n",
              "<style scoped>\n",
              "    .dataframe tbody tr th:only-of-type {\n",
              "        vertical-align: middle;\n",
              "    }\n",
              "\n",
              "    .dataframe tbody tr th {\n",
              "        vertical-align: top;\n",
              "    }\n",
              "\n",
              "    .dataframe thead th {\n",
              "        text-align: right;\n",
              "    }\n",
              "</style>\n",
              "<table border=\"1\" class=\"dataframe\">\n",
              "  <thead>\n",
              "    <tr style=\"text-align: right;\">\n",
              "      <th></th>\n",
              "      <th>Tweets</th>\n",
              "    </tr>\n",
              "  </thead>\n",
              "  <tbody>\n",
              "    <tr>\n",
              "      <th>0</th>\n",
              "      <td>Dear Sir, My father - Arvind Kr. Singh was ...</td>\n",
              "    </tr>\n",
              "    <tr>\n",
              "      <th>1</th>\n",
              "      <td>Three years ago today, we lost an incredible ...</td>\n",
              "    </tr>\n",
              "    <tr>\n",
              "      <th>2</th>\n",
              "      <td>Naah😁\\nHarryPotterMarathon</td>\n",
              "    </tr>\n",
              "    <tr>\n",
              "      <th>3</th>\n",
              "      <td>This one is special. You guys have no idea...</td>\n",
              "    </tr>\n",
              "    <tr>\n",
              "      <th>4</th>\n",
              "      <td>Are you jealous of him ?😂😂😂</td>\n",
              "    </tr>\n",
              "    <tr>\n",
              "      <th>5</th>\n",
              "      <td>😂😂😂😂😂😂😂</td>\n",
              "    </tr>\n",
              "    <tr>\n",
              "      <th>6</th>\n",
              "      <td>Always</td>\n",
              "    </tr>\n",
              "    <tr>\n",
              "      <th>7</th>\n",
              "      <td>no words. so heartbroken. RIP Chester Benning...</td>\n",
              "    </tr>\n",
              "    <tr>\n",
              "      <th>8</th>\n",
              "      <td>The first ever song that gave me goosbumps \"I...</td>\n",
              "    </tr>\n",
              "    <tr>\n",
              "      <th>9</th>\n",
              "      <td>_Gatto Wish you a very very Happy Birthday Joe...</td>\n",
              "    </tr>\n",
              "    <tr>\n",
              "      <th>10</th>\n",
              "      <td>_Henstridge So true 😉😉😉</td>\n",
              "    </tr>\n",
              "    <tr>\n",
              "      <th>11</th>\n",
              "      <td>_Henstridge  Whoa!!!!!!</td>\n",
              "    </tr>\n",
              "    <tr>\n",
              "      <th>12</th>\n",
              "      <td>_Henstridge  😍😍😍😍</td>\n",
              "    </tr>\n",
              "    <tr>\n",
              "      <th>13</th>\n",
              "      <td>Happy birthday to the ridiculously sweet, the...</td>\n",
              "    </tr>\n",
              "    <tr>\n",
              "      <th>14</th>\n",
              "      <td>I am paying 15 cr income tax from last 5 year...</td>\n",
              "    </tr>\n",
              "    <tr>\n",
              "      <th>15</th>\n",
              "      <td>Yeh hain aapke achhe din ?</td>\n",
              "    </tr>\n",
              "    <tr>\n",
              "      <th>16</th>\n",
              "      <td>QOTD: \"Gold medals aren't really made of gold...</td>\n",
              "    </tr>\n",
              "    <tr>\n",
              "      <th>17</th>\n",
              "      <td>Wait! Before the ImpracticalJokers return, _G...</td>\n",
              "    </tr>\n",
              "    <tr>\n",
              "      <th>18</th>\n",
              "      <td>_Bam Loved your latest video a lot. Keep up th...</td>\n",
              "    </tr>\n",
              "    <tr>\n",
              "      <th>19</th>\n",
              "      <td>_Gatto Did much better than Q.</td>\n",
              "    </tr>\n",
              "    <tr>\n",
              "      <th>20</th>\n",
              "      <td>Should have Murr in the ring. He would have...</td>\n",
              "    </tr>\n",
              "    <tr>\n",
              "      <th>21</th>\n",
              "      <td>_GattoYo guys, let Murr get inside, as a ...</td>\n",
              "    </tr>\n",
              "  </tbody>\n",
              "</table>\n",
              "</div>"
            ],
            "text/plain": [
              "                                               Tweets\n",
              "0      Dear Sir, My father - Arvind Kr. Singh was ...\n",
              "1    Three years ago today, we lost an incredible ...\n",
              "2                         Naah😁\\nHarryPotterMarathon \n",
              "3      This one is special. You guys have no idea... \n",
              "4                         Are you jealous of him ?😂😂😂\n",
              "5                                             😂😂😂😂😂😂😂\n",
              "6                                              Always\n",
              "7    no words. so heartbroken. RIP Chester Benning...\n",
              "8    The first ever song that gave me goosbumps \"I...\n",
              "9   _Gatto Wish you a very very Happy Birthday Joe...\n",
              "10                            _Henstridge So true 😉😉😉\n",
              "11                            _Henstridge  Whoa!!!!!!\n",
              "12                                  _Henstridge  😍😍😍😍\n",
              "13   Happy birthday to the ridiculously sweet, the...\n",
              "14   I am paying 15 cr income tax from last 5 year...\n",
              "15                        Yeh hain aapke achhe din ? \n",
              "16   QOTD: \"Gold medals aren't really made of gold...\n",
              "17   Wait! Before the ImpracticalJokers return, _G...\n",
              "18  _Bam Loved your latest video a lot. Keep up th...\n",
              "19                     _Gatto Did much better than Q.\n",
              "20     Should have Murr in the ring. He would have...\n",
              "21       _GattoYo guys, let Murr get inside, as a ..."
            ]
          },
          "metadata": {},
          "execution_count": 32
        }
      ]
    },
    {
      "cell_type": "code",
      "metadata": {
        "scrolled": true,
        "colab": {
          "base_uri": "https://localhost:8080/",
          "height": 731
        },
        "id": "7IFawH9eb594",
        "outputId": "9bb10b6d-60eb-4cf3-8f9c-85b8154f93a2"
      },
      "source": [
        "def getSubjectivity(text):\n",
        "    return TextBlob(text).sentiment.subjectivity\n",
        "\n",
        "def getPolarity(text):\n",
        "    return TextBlob(text).sentiment.polarity\n",
        "\n",
        "df['Subjectivity'] = df['Tweets'].apply(getSubjectivity)\n",
        "df['Polarity'] = df['Tweets'].apply(getPolarity)\n",
        "\n",
        "df"
      ],
      "execution_count": 33,
      "outputs": [
        {
          "output_type": "execute_result",
          "data": {
            "text/html": [
              "<div>\n",
              "<style scoped>\n",
              "    .dataframe tbody tr th:only-of-type {\n",
              "        vertical-align: middle;\n",
              "    }\n",
              "\n",
              "    .dataframe tbody tr th {\n",
              "        vertical-align: top;\n",
              "    }\n",
              "\n",
              "    .dataframe thead th {\n",
              "        text-align: right;\n",
              "    }\n",
              "</style>\n",
              "<table border=\"1\" class=\"dataframe\">\n",
              "  <thead>\n",
              "    <tr style=\"text-align: right;\">\n",
              "      <th></th>\n",
              "      <th>Tweets</th>\n",
              "      <th>Subjectivity</th>\n",
              "      <th>Polarity</th>\n",
              "    </tr>\n",
              "  </thead>\n",
              "  <tbody>\n",
              "    <tr>\n",
              "      <th>0</th>\n",
              "      <td>Dear Sir, My father - Arvind Kr. Singh was ...</td>\n",
              "      <td>1.000000</td>\n",
              "      <td>-0.875000</td>\n",
              "    </tr>\n",
              "    <tr>\n",
              "      <th>1</th>\n",
              "      <td>Three years ago today, we lost an incredible ...</td>\n",
              "      <td>0.950000</td>\n",
              "      <td>0.905000</td>\n",
              "    </tr>\n",
              "    <tr>\n",
              "      <th>2</th>\n",
              "      <td>Naah😁\\nHarryPotterMarathon</td>\n",
              "      <td>0.000000</td>\n",
              "      <td>0.000000</td>\n",
              "    </tr>\n",
              "    <tr>\n",
              "      <th>3</th>\n",
              "      <td>This one is special. You guys have no idea...</td>\n",
              "      <td>0.571429</td>\n",
              "      <td>0.357143</td>\n",
              "    </tr>\n",
              "    <tr>\n",
              "      <th>4</th>\n",
              "      <td>Are you jealous of him ?😂😂😂</td>\n",
              "      <td>0.000000</td>\n",
              "      <td>0.000000</td>\n",
              "    </tr>\n",
              "    <tr>\n",
              "      <th>5</th>\n",
              "      <td>😂😂😂😂😂😂😂</td>\n",
              "      <td>0.000000</td>\n",
              "      <td>0.000000</td>\n",
              "    </tr>\n",
              "    <tr>\n",
              "      <th>6</th>\n",
              "      <td>Always</td>\n",
              "      <td>0.000000</td>\n",
              "      <td>0.000000</td>\n",
              "    </tr>\n",
              "    <tr>\n",
              "      <th>7</th>\n",
              "      <td>no words. so heartbroken. RIP Chester Benning...</td>\n",
              "      <td>0.000000</td>\n",
              "      <td>0.000000</td>\n",
              "    </tr>\n",
              "    <tr>\n",
              "      <th>8</th>\n",
              "      <td>The first ever song that gave me goosbumps \"I...</td>\n",
              "      <td>0.333333</td>\n",
              "      <td>0.250000</td>\n",
              "    </tr>\n",
              "    <tr>\n",
              "      <th>9</th>\n",
              "      <td>_Gatto Wish you a very very Happy Birthday Joe...</td>\n",
              "      <td>0.857143</td>\n",
              "      <td>0.785714</td>\n",
              "    </tr>\n",
              "    <tr>\n",
              "      <th>10</th>\n",
              "      <td>_Henstridge So true 😉😉😉</td>\n",
              "      <td>0.650000</td>\n",
              "      <td>0.350000</td>\n",
              "    </tr>\n",
              "    <tr>\n",
              "      <th>11</th>\n",
              "      <td>_Henstridge  Whoa!!!!!!</td>\n",
              "      <td>0.000000</td>\n",
              "      <td>0.000000</td>\n",
              "    </tr>\n",
              "    <tr>\n",
              "      <th>12</th>\n",
              "      <td>_Henstridge  😍😍😍😍</td>\n",
              "      <td>0.000000</td>\n",
              "      <td>0.000000</td>\n",
              "    </tr>\n",
              "    <tr>\n",
              "      <th>13</th>\n",
              "      <td>Happy birthday to the ridiculously sweet, the...</td>\n",
              "      <td>0.887500</td>\n",
              "      <td>0.681250</td>\n",
              "    </tr>\n",
              "    <tr>\n",
              "      <th>14</th>\n",
              "      <td>I am paying 15 cr income tax from last 5 year...</td>\n",
              "      <td>0.066667</td>\n",
              "      <td>0.000000</td>\n",
              "    </tr>\n",
              "    <tr>\n",
              "      <th>15</th>\n",
              "      <td>Yeh hain aapke achhe din ?</td>\n",
              "      <td>0.000000</td>\n",
              "      <td>0.000000</td>\n",
              "    </tr>\n",
              "    <tr>\n",
              "      <th>16</th>\n",
              "      <td>QOTD: \"Gold medals aren't really made of gold...</td>\n",
              "      <td>0.200000</td>\n",
              "      <td>0.200000</td>\n",
              "    </tr>\n",
              "    <tr>\n",
              "      <th>17</th>\n",
              "      <td>Wait! Before the ImpracticalJokers return, _G...</td>\n",
              "      <td>0.500000</td>\n",
              "      <td>0.136364</td>\n",
              "    </tr>\n",
              "    <tr>\n",
              "      <th>18</th>\n",
              "      <td>_Bam Loved your latest video a lot. Keep up th...</td>\n",
              "      <td>0.680000</td>\n",
              "      <td>0.480000</td>\n",
              "    </tr>\n",
              "    <tr>\n",
              "      <th>19</th>\n",
              "      <td>_Gatto Did much better than Q.</td>\n",
              "      <td>0.500000</td>\n",
              "      <td>0.500000</td>\n",
              "    </tr>\n",
              "    <tr>\n",
              "      <th>20</th>\n",
              "      <td>Should have Murr in the ring. He would have...</td>\n",
              "      <td>0.767857</td>\n",
              "      <td>0.517857</td>\n",
              "    </tr>\n",
              "    <tr>\n",
              "      <th>21</th>\n",
              "      <td>_GattoYo guys, let Murr get inside, as a ...</td>\n",
              "      <td>0.000000</td>\n",
              "      <td>0.000000</td>\n",
              "    </tr>\n",
              "  </tbody>\n",
              "</table>\n",
              "</div>"
            ],
            "text/plain": [
              "                                               Tweets  Subjectivity  Polarity\n",
              "0      Dear Sir, My father - Arvind Kr. Singh was ...      1.000000 -0.875000\n",
              "1    Three years ago today, we lost an incredible ...      0.950000  0.905000\n",
              "2                         Naah😁\\nHarryPotterMarathon       0.000000  0.000000\n",
              "3      This one is special. You guys have no idea...       0.571429  0.357143\n",
              "4                         Are you jealous of him ?😂😂😂      0.000000  0.000000\n",
              "5                                             😂😂😂😂😂😂😂      0.000000  0.000000\n",
              "6                                              Always      0.000000  0.000000\n",
              "7    no words. so heartbroken. RIP Chester Benning...      0.000000  0.000000\n",
              "8    The first ever song that gave me goosbumps \"I...      0.333333  0.250000\n",
              "9   _Gatto Wish you a very very Happy Birthday Joe...      0.857143  0.785714\n",
              "10                            _Henstridge So true 😉😉😉      0.650000  0.350000\n",
              "11                            _Henstridge  Whoa!!!!!!      0.000000  0.000000\n",
              "12                                  _Henstridge  😍😍😍😍      0.000000  0.000000\n",
              "13   Happy birthday to the ridiculously sweet, the...      0.887500  0.681250\n",
              "14   I am paying 15 cr income tax from last 5 year...      0.066667  0.000000\n",
              "15                        Yeh hain aapke achhe din ?       0.000000  0.000000\n",
              "16   QOTD: \"Gold medals aren't really made of gold...      0.200000  0.200000\n",
              "17   Wait! Before the ImpracticalJokers return, _G...      0.500000  0.136364\n",
              "18  _Bam Loved your latest video a lot. Keep up th...      0.680000  0.480000\n",
              "19                     _Gatto Did much better than Q.      0.500000  0.500000\n",
              "20     Should have Murr in the ring. He would have...      0.767857  0.517857\n",
              "21       _GattoYo guys, let Murr get inside, as a ...      0.000000  0.000000"
            ]
          },
          "metadata": {},
          "execution_count": 33
        }
      ]
    },
    {
      "cell_type": "code",
      "metadata": {
        "scrolled": true,
        "colab": {
          "base_uri": "https://localhost:8080/",
          "height": 256
        },
        "id": "RH0HDTnxb594",
        "outputId": "7f587fa3-d0be-49de-f25f-1b37d785a7bc"
      },
      "source": [
        "allWords = ' '.join( [twts for twts in df['Tweets']] )\n",
        "wordCloud = WordCloud(width = 500, height = 300, random_state = 21, max_font_size = 119).generate(allWords)\n",
        "\n",
        "plt.imshow(wordCloud, interpolation= \"bilinear\")\n",
        "plt.axis('off')\n",
        "fig1 = plt.gcf()\n",
        "plt.show()\n",
        "html_str1 = mpld3.fig_to_html(fig1)"
      ],
      "execution_count": 34,
      "outputs": [
        {
          "output_type": "display_data",
          "data": {
            "image/png": "[encoded data removed]",
            "text/plain": [
              "<Figure size 432x288 with 1 Axes>"
            ]
          },
          "metadata": {}
        }
      ]
    },
    {
      "cell_type": "code",
      "metadata": {
        "colab": {
          "base_uri": "https://localhost:8080/",
          "height": 731
        },
        "id": "RHFfUhvPb595",
        "outputId": "7b422ea6-7d30-4e98-9ba0-982cb1975dd2"
      },
      "source": [
        "def getAnalysis(score):\n",
        "    if score < 0:\n",
        "        return 'Negative'\n",
        "    elif score == 0:\n",
        "        return 'Neutral'\n",
        "    else:\n",
        "        return 'Positive'\n",
        "\n",
        "df['Analysis'] = df['Polarity'].apply(getAnalysis)\n",
        "\n",
        "df"
      ],
      "execution_count": 35,
      "outputs": [
        {
          "output_type": "execute_result",
          "data": {
            "text/html": [
              "<div>\n",
              "<style scoped>\n",
              "    .dataframe tbody tr th:only-of-type {\n",
              "        vertical-align: middle;\n",
              "    }\n",
              "\n",
              "    .dataframe tbody tr th {\n",
              "        vertical-align: top;\n",
              "    }\n",
              "\n",
              "    .dataframe thead th {\n",
              "        text-align: right;\n",
              "    }\n",
              "</style>\n",
              "<table border=\"1\" class=\"dataframe\">\n",
              "  <thead>\n",
              "    <tr style=\"text-align: right;\">\n",
              "      <th></th>\n",
              "      <th>Tweets</th>\n",
              "      <th>Subjectivity</th>\n",
              "      <th>Polarity</th>\n",
              "      <th>Analysis</th>\n",
              "    </tr>\n",
              "  </thead>\n",
              "  <tbody>\n",
              "    <tr>\n",
              "      <th>0</th>\n",
              "      <td>Dear Sir, My father - Arvind Kr. Singh was ...</td>\n",
              "      <td>1.000000</td>\n",
              "      <td>-0.875000</td>\n",
              "      <td>Negative</td>\n",
              "    </tr>\n",
              "    <tr>\n",
              "      <th>1</th>\n",
              "      <td>Three years ago today, we lost an incredible ...</td>\n",
              "      <td>0.950000</td>\n",
              "      <td>0.905000</td>\n",
              "      <td>Positive</td>\n",
              "    </tr>\n",
              "    <tr>\n",
              "      <th>2</th>\n",
              "      <td>Naah😁\\nHarryPotterMarathon</td>\n",
              "      <td>0.000000</td>\n",
              "      <td>0.000000</td>\n",
              "      <td>Neutral</td>\n",
              "    </tr>\n",
              "    <tr>\n",
              "      <th>3</th>\n",
              "      <td>This one is special. You guys have no idea...</td>\n",
              "      <td>0.571429</td>\n",
              "      <td>0.357143</td>\n",
              "      <td>Positive</td>\n",
              "    </tr>\n",
              "    <tr>\n",
              "      <th>4</th>\n",
              "      <td>Are you jealous of him ?😂😂😂</td>\n",
              "      <td>0.000000</td>\n",
              "      <td>0.000000</td>\n",
              "      <td>Neutral</td>\n",
              "    </tr>\n",
              "    <tr>\n",
              "      <th>5</th>\n",
              "      <td>😂😂😂😂😂😂😂</td>\n",
              "      <td>0.000000</td>\n",
              "      <td>0.000000</td>\n",
              "      <td>Neutral</td>\n",
              "    </tr>\n",
              "    <tr>\n",
              "      <th>6</th>\n",
              "      <td>Always</td>\n",
              "      <td>0.000000</td>\n",
              "      <td>0.000000</td>\n",
              "      <td>Neutral</td>\n",
              "    </tr>\n",
              "    <tr>\n",
              "      <th>7</th>\n",
              "      <td>no words. so heartbroken. RIP Chester Benning...</td>\n",
              "      <td>0.000000</td>\n",
              "      <td>0.000000</td>\n",
              "      <td>Neutral</td>\n",
              "    </tr>\n",
              "    <tr>\n",
              "      <th>8</th>\n",
              "      <td>The first ever song that gave me goosbumps \"I...</td>\n",
              "      <td>0.333333</td>\n",
              "      <td>0.250000</td>\n",
              "      <td>Positive</td>\n",
              "    </tr>\n",
              "    <tr>\n",
              "      <th>9</th>\n",
              "      <td>_Gatto Wish you a very very Happy Birthday Joe...</td>\n",
              "      <td>0.857143</td>\n",
              "      <td>0.785714</td>\n",
              "      <td>Positive</td>\n",
              "    </tr>\n",
              "    <tr>\n",
              "      <th>10</th>\n",
              "      <td>_Henstridge So true 😉😉😉</td>\n",
              "      <td>0.650000</td>\n",
              "      <td>0.350000</td>\n",
              "      <td>Positive</td>\n",
              "    </tr>\n",
              "    <tr>\n",
              "      <th>11</th>\n",
              "      <td>_Henstridge  Whoa!!!!!!</td>\n",
              "      <td>0.000000</td>\n",
              "      <td>0.000000</td>\n",
              "      <td>Neutral</td>\n",
              "    </tr>\n",
              "    <tr>\n",
              "      <th>12</th>\n",
              "      <td>_Henstridge  😍😍😍😍</td>\n",
              "      <td>0.000000</td>\n",
              "      <td>0.000000</td>\n",
              "      <td>Neutral</td>\n",
              "    </tr>\n",
              "    <tr>\n",
              "      <th>13</th>\n",
              "      <td>Happy birthday to the ridiculously sweet, the...</td>\n",
              "      <td>0.887500</td>\n",
              "      <td>0.681250</td>\n",
              "      <td>Positive</td>\n",
              "    </tr>\n",
              "    <tr>\n",
              "      <th>14</th>\n",
              "      <td>I am paying 15 cr income tax from last 5 year...</td>\n",
              "      <td>0.066667</td>\n",
              "      <td>0.000000</td>\n",
              "      <td>Neutral</td>\n",
              "    </tr>\n",
              "    <tr>\n",
              "      <th>15</th>\n",
              "      <td>Yeh hain aapke achhe din ?</td>\n",
              "      <td>0.000000</td>\n",
              "      <td>0.000000</td>\n",
              "      <td>Neutral</td>\n",
              "    </tr>\n",
              "    <tr>\n",
              "      <th>16</th>\n",
              "      <td>QOTD: \"Gold medals aren't really made of gold...</td>\n",
              "      <td>0.200000</td>\n",
              "      <td>0.200000</td>\n",
              "      <td>Positive</td>\n",
              "    </tr>\n",
              "    <tr>\n",
              "      <th>17</th>\n",
              "      <td>Wait! Before the ImpracticalJokers return, _G...</td>\n",
              "      <td>0.500000</td>\n",
              "      <td>0.136364</td>\n",
              "      <td>Positive</td>\n",
              "    </tr>\n",
              "    <tr>\n",
              "      <th>18</th>\n",
              "      <td>_Bam Loved your latest video a lot. Keep up th...</td>\n",
              "      <td>0.680000</td>\n",
              "      <td>0.480000</td>\n",
              "      <td>Positive</td>\n",
              "    </tr>\n",
              "    <tr>\n",
              "      <th>19</th>\n",
              "      <td>_Gatto Did much better than Q.</td>\n",
              "      <td>0.500000</td>\n",
              "      <td>0.500000</td>\n",
              "      <td>Positive</td>\n",
              "    </tr>\n",
              "    <tr>\n",
              "      <th>20</th>\n",
              "      <td>Should have Murr in the ring. He would have...</td>\n",
              "      <td>0.767857</td>\n",
              "      <td>0.517857</td>\n",
              "      <td>Positive</td>\n",
              "    </tr>\n",
              "    <tr>\n",
              "      <th>21</th>\n",
              "      <td>_GattoYo guys, let Murr get inside, as a ...</td>\n",
              "      <td>0.000000</td>\n",
              "      <td>0.000000</td>\n",
              "      <td>Neutral</td>\n",
              "    </tr>\n",
              "  </tbody>\n",
              "</table>\n",
              "</div>"
            ],
            "text/plain": [
              "                                               Tweets  ...  Analysis\n",
              "0      Dear Sir, My father - Arvind Kr. Singh was ...  ...  Negative\n",
              "1    Three years ago today, we lost an incredible ...  ...  Positive\n",
              "2                         Naah😁\\nHarryPotterMarathon   ...   Neutral\n",
              "3      This one is special. You guys have no idea...   ...  Positive\n",
              "4                         Are you jealous of him ?😂😂😂  ...   Neutral\n",
              "5                                             😂😂😂😂😂😂😂  ...   Neutral\n",
              "6                                              Always  ...   Neutral\n",
              "7    no words. so heartbroken. RIP Chester Benning...  ...   Neutral\n",
              "8    The first ever song that gave me goosbumps \"I...  ...  Positive\n",
              "9   _Gatto Wish you a very very Happy Birthday Joe...  ...  Positive\n",
              "10                            _Henstridge So true 😉😉😉  ...  Positive\n",
              "11                            _Henstridge  Whoa!!!!!!  ...   Neutral\n",
              "12                                  _Henstridge  😍😍😍😍  ...   Neutral\n",
              "13   Happy birthday to the ridiculously sweet, the...  ...  Positive\n",
              "14   I am paying 15 cr income tax from last 5 year...  ...   Neutral\n",
              "15                        Yeh hain aapke achhe din ?   ...   Neutral\n",
              "16   QOTD: \"Gold medals aren't really made of gold...  ...  Positive\n",
              "17   Wait! Before the ImpracticalJokers return, _G...  ...  Positive\n",
              "18  _Bam Loved your latest video a lot. Keep up th...  ...  Positive\n",
              "19                     _Gatto Did much better than Q.  ...  Positive\n",
              "20     Should have Murr in the ring. He would have...  ...  Positive\n",
              "21       _GattoYo guys, let Murr get inside, as a ...  ...   Neutral\n",
              "\n",
              "[22 rows x 4 columns]"
            ]
          },
          "metadata": {},
          "execution_count": 35
        }
      ]
    },
    {
      "cell_type": "code",
      "metadata": {
        "colab": {
          "base_uri": "https://localhost:8080/"
        },
        "id": "7WaBkMYZb595",
        "outputId": "8e2b93e7-e74c-4ed7-85ed-b69e20760cf2"
      },
      "source": [
        "j=1\n",
        "sortedDF = df.sort_values(by=['Polarity'])\n",
        "for i in range(0, sortedDF.shape[0]):\n",
        "    if(sortedDF['Analysis'][i] == 'Positive'):\n",
        "        print(str(j) + ') ' + sortedDF['Tweets'][i])\n",
        "        print()\n",
        "        j = j+1\n",
        "        "
      ],
      "execution_count": 36,
      "outputs": [
        {
          "output_type": "stream",
          "name": "stdout",
          "text": [
            "1)  Three years ago today, we lost an incredible talent.\n",
            "\n",
            "A father, a husband, a bandmate, a very talented musician, and an importa…\n",
            "\n",
            "2)  This one is special. You guys have no idea... \n",
            "\n",
            "3)  The first ever song that gave me goosbumps \"In the end it doesn't even matter\" I can't believe he is gone. RIP CHESTER\n",
            "\n",
            "4) _Gatto Wish you a very very Happy Birthday Joe.Dude, awesome work with Impractical Jokers.The special thing is that today's my birthday😁\n",
            "\n",
            "5)  _Henstridge So true 😉😉😉\n",
            "\n",
            "6)  Happy birthday to the ridiculously sweet, the impossibly charming, the always talented _henstridge! \n",
            "\n",
            "7)  QOTD: \"Gold medals aren't really made of gold. They're made of sweat, determination, and a hard-to-find alloy called gut…\n",
            "\n",
            "8)  Wait! Before the ImpracticalJokers return, _Gatto takes questions on a LIVE Pre-Show, Thurs, 9:30EST/6:30PST \n",
            "\n",
            "9) _Bam Loved your latest video a lot. Keep up the good work. Big fan of yours. :)\n",
            "SorryDadBBkivines\n",
            "\n",
            "10)    _Gatto Did much better than Q.\n",
            "\n",
            "11)    Should have Murr in the ring. He would have defeated Seth. Right Murray ? :P\n",
            "\n"
          ]
        }
      ]
    },
    {
      "cell_type": "code",
      "metadata": {
        "colab": {
          "base_uri": "https://localhost:8080/"
        },
        "id": "sJsOpKiZb595",
        "outputId": "184b8ab3-9c3e-40be-eb64-a2ba508a2134"
      },
      "source": [
        "j=1\n",
        "sortedDF = df.sort_values(by=['Polarity'], ascending='False')\n",
        "for i in range(0, sortedDF.shape[0]):\n",
        "    if(sortedDF['Analysis'][i] == 'Negative'):\n",
        "        print(str(j) + ') ' + sortedDF['Tweets'][i])\n",
        "        print()\n",
        "        j = j+1"
      ],
      "execution_count": 37,
      "outputs": [
        {
          "output_type": "stream",
          "name": "stdout",
          "text": [
            "1)    Dear Sir, My father - Arvind Kr. Singh was brutally murdered by Dhananjay Singh from Dhanbad. T…\n",
            "\n"
          ]
        }
      ]
    },
    {
      "cell_type": "code",
      "metadata": {
        "scrolled": false,
        "colab": {
          "base_uri": "https://localhost:8080/",
          "height": 441
        },
        "id": "4wDs_NmGb596",
        "outputId": "ea05d897-d9c9-410b-8114-166b900e00f6"
      },
      "source": [
        "plt.figure(figsize=(8,6))\n",
        "for i in range(0, df.shape[0]):\n",
        "    plt.scatter(df['Polarity'][i], df['Subjectivity'][i], color='Blue')\n",
        "\n",
        "plt.title('Sentiment Analysis')\n",
        "plt.xlabel('Polarity')\n",
        "plt.ylabel('Subjectivity')\n",
        "plt.show()"
      ],
      "execution_count": 38,
      "outputs": [
        {
          "output_type": "display_data",
          "data": {
            "image/png": "[encoded data removed]",
            "text/plain": [
              "<Figure size 576x432 with 1 Axes>"
            ]
          },
          "metadata": {}
        }
      ]
    },
    {
      "cell_type": "code",
      "metadata": {
        "id": "sTvIlicub596"
      },
      "source": [
        "ptweets = df[df.Analysis == 'Positive']\n",
        "ptweets = ptweets['Tweets']\n",
        "pper = round((ptweets.shape[0]/df.shape[0])*100, 1)"
      ],
      "execution_count": 39,
      "outputs": []
    },
    {
      "cell_type": "code",
      "metadata": {
        "colab": {
          "base_uri": "https://localhost:8080/"
        },
        "id": "iRu7CKxTb596",
        "outputId": "08c02dec-31f6-4823-fa5d-67fa0399422b"
      },
      "source": [
        "print(pper)"
      ],
      "execution_count": 40,
      "outputs": [
        {
          "output_type": "stream",
          "name": "stdout",
          "text": [
            "50.0\n"
          ]
        }
      ]
    },
    {
      "cell_type": "code",
      "metadata": {
        "id": "UOu1wjdlb596"
      },
      "source": [
        "ntweets = df[df.Analysis == 'Negative']\n",
        "ntweets = ntweets['Tweets']\n",
        "nper = round((ntweets.shape[0]/df.shape[0])*100, 1)"
      ],
      "execution_count": 41,
      "outputs": []
    },
    {
      "cell_type": "code",
      "metadata": {
        "id": "D1qb0jggb597"
      },
      "source": [
        "neutweets = df[df.Analysis == 'Neutral']\n",
        "neutweets = neutweets['Tweets']\n",
        "neper = round((neutweets.shape[0]/df.shape[0])*100, 1)\n"
      ],
      "execution_count": 42,
      "outputs": []
    },
    {
      "cell_type": "code",
      "metadata": {
        "colab": {
          "base_uri": "https://localhost:8080/",
          "height": 374
        },
        "id": "vXDtGY1Ib597",
        "outputId": "2db48599-7a53-466f-ebf0-e09e1642c142"
      },
      "source": [
        "df['Analysis'].value_counts()\n",
        "\n",
        "plt.title('Sentiment Analysis')\n",
        "plt.xlabel('Sentiment')\n",
        "plt.ylabel('Counts')\n",
        "df['Analysis'].value_counts().plot(kind='bar')\n",
        "plt.show()"
      ],
      "execution_count": 43,
      "outputs": [
        {
          "output_type": "display_data",
          "data": {
            "image/png": "[encoded data removed]",
            "text/plain": [
              "<Figure size 432x288 with 1 Axes>"
            ]
          },
          "metadata": {}
        }
      ]
    },
    {
      "cell_type": "code",
      "metadata": {
        "id": "I4K1drJXb597"
      },
      "source": [
        "q, w, e = df['Analysis'].value_counts()"
      ],
      "execution_count": 44,
      "outputs": []
    },
    {
      "cell_type": "code",
      "metadata": {
        "colab": {
          "base_uri": "https://localhost:8080/"
        },
        "id": "CslGjWLPb597",
        "outputId": "c26ba2b8-2971-4359-919b-746db7bfda7b"
      },
      "source": [
        "print(q)"
      ],
      "execution_count": 45,
      "outputs": [
        {
          "output_type": "stream",
          "name": "stdout",
          "text": [
            "11\n"
          ]
        }
      ]
    },
    {
      "cell_type": "code",
      "metadata": {
        "colab": {
          "base_uri": "https://localhost:8080/"
        },
        "id": "MCxffwR3b597",
        "outputId": "b7a2a780-c39b-43fb-97bd-815de9ca3b74"
      },
      "source": [
        "print(w)"
      ],
      "execution_count": 46,
      "outputs": [
        {
          "output_type": "stream",
          "name": "stdout",
          "text": [
            "10\n"
          ]
        }
      ]
    },
    {
      "cell_type": "code",
      "metadata": {
        "id": "9SkyFei_b597"
      },
      "source": [
        "import os"
      ],
      "execution_count": 24,
      "outputs": []
    },
    {
      "cell_type": "code",
      "metadata": {
        "colab": {
          "base_uri": "https://localhost:8080/",
          "height": 164
        },
        "id": "HmEOri15b597",
        "outputId": "bc37d2ac-b483-4bdd-b831-fedec440b770"
      },
      "source": [
        "os.rmdir('static/rem/')"
      ],
      "execution_count": 25,
      "outputs": [
        {
          "output_type": "error",
          "ename": "FileNotFoundError",
          "evalue": "ignored",
          "traceback": [
            "\u001b[0;31m---------------------------------------------------------------------------\u001b[0m",
            "\u001b[0;31mFileNotFoundError\u001b[0m                         Traceback (most recent call last)",
            "\u001b[0;32m<ipython-input-25-a5a736ee78e3>\u001b[0m in \u001b[0;36m<module>\u001b[0;34m()\u001b[0m\n\u001b[0;32m----> 1\u001b[0;31m \u001b[0mos\u001b[0m\u001b[0;34m.\u001b[0m\u001b[0mrmdir\u001b[0m\u001b[0;34m(\u001b[0m\u001b[0;34m'static/rem/'\u001b[0m\u001b[0;34m)\u001b[0m\u001b[0;34m\u001b[0m\u001b[0;34m\u001b[0m\u001b[0m\n\u001b[0m",
            "\u001b[0;31mFileNotFoundError\u001b[0m: [Errno 2] No such file or directory: 'static/rem/'"
          ]
        }
      ]
    }
  ]
}